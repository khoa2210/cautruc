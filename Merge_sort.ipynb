{
  "nbformat": 4,
  "nbformat_minor": 0,
  "metadata": {
    "colab": {
      "name": "Merge sort.ipynb",
      "provenance": [],
      "authorship_tag": "ABX9TyMja4WiADU7UxILgw4Ujxrk",
      "include_colab_link": true
    },
    "kernelspec": {
      "name": "python3",
      "display_name": "Python 3"
    },
    "language_info": {
      "name": "python"
    }
  },
  "cells": [
    {
      "cell_type": "markdown",
      "metadata": {
        "id": "view-in-github",
        "colab_type": "text"
      },
      "source": [
        "<a href=\"https://colab.research.google.com/github/khoa2210/cautruc/blob/main/Merge_sort.ipynb\" target=\"_parent\"><img src=\"https://colab.research.google.com/assets/colab-badge.svg\" alt=\"Open In Colab\"/></a>"
      ]
    },
    {
      "cell_type": "code",
      "metadata": {
        "id": "Z-UzF5sXDOA1"
      },
      "source": [
        "def doicho(m, n):\n",
        "    return n, m\n",
        "\n",
        "\n",
        "# Thuat toan Merge Sort\n",
        "def quicksort(L, R):\n",
        "    global a\n",
        "\n",
        "    if L >= R:\n",
        "        return\n",
        "\n",
        "    i = L\n",
        "    j = R\n",
        "\n",
        "    x = a[(L + R)//2]\n",
        "\n",
        "    while True:\n",
        "        while a[i] < x:\n",
        "            i = i+1\n",
        "        while a[j] > x:\n",
        "            j = j - 1\n",
        "\n",
        "        if i < j:\n",
        "            a[i], a[j] = doicho(a[i], a[j])\n",
        "            i = i + 1\n",
        "            j = j - 1\n",
        "\n",
        "        if i > j:\n",
        "            break\n",
        "\n",
        "    quicksort(L, j)\n",
        "    quicksort(i, R)\n",
        "\n",
        "\n",
        "# CHUONG TRINH CHINH\n",
        "\n",
        "n = int(input(\"Nhap n = \"))\n",
        "\n",
        "a = []\n",
        "\n",
        "for i in range(0, n):\n",
        "    x = int(input(\"Nhap phan tu thu %d: \" % (i+1)))\n",
        "    a.append(x)\n",
        "\n",
        "quicksort(0, n - 1)\n",
        "\n",
        "print(\"Day so khi duoc sap xep la: \", a)"
      ],
      "execution_count": null,
      "outputs": []
    },
    {
      "cell_type": "markdown",
      "metadata": {
        "id": "CdpauQX7DcHF"
      },
      "source": [
        ""
      ]
    }
  ]
}