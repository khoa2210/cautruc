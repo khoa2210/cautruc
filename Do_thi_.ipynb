{
  "nbformat": 4,
  "nbformat_minor": 0,
  "metadata": {
    "colab": {
      "name": "Do thi .ipynb",
      "provenance": [],
      "authorship_tag": "ABX9TyMRMINZK4AjIZcXvFDpV+XV",
      "include_colab_link": true
    },
    "kernelspec": {
      "name": "python3",
      "display_name": "Python 3"
    },
    "language_info": {
      "name": "python"
    }
  },
  "cells": [
    {
      "cell_type": "markdown",
      "metadata": {
        "id": "view-in-github",
        "colab_type": "text"
      },
      "source": [
        "<a href=\"https://colab.research.google.com/github/khoa2210/cautruc/blob/main/Do_thi_.ipynb\" target=\"_parent\"><img src=\"https://colab.research.google.com/assets/colab-badge.svg\" alt=\"Open In Colab\"/></a>"
      ]
    },
    {
      "cell_type": "code",
      "metadata": {
        "colab": {
          "base_uri": "https://localhost:8080/",
          "height": 248
        },
        "id": "fev6lgt7Kfyo",
        "outputId": "21d8e227-43e5-4aa1-fb64-2f9c4193c089"
      },
      "source": [
        "import networkx as nx\n",
        "import matplotlib.pyplot as plt\n",
        "\n",
        "G = nx.DiGraph()\n",
        "G.add_edges_from(\n",
        "    [('A', 'B'), ('A', 'C'), ('D', 'B'), ('E', 'C'), ('E', 'F'),\n",
        "     ('B', 'H'), ('B', 'G'), ('B', 'F'), ('C', 'G')])\n",
        "\n",
        "val_map = {'A': 1.0,\n",
        "           'D': 0.5714285714285714,\n",
        "           'H': 0.0}\n",
        "\n",
        "values = [val_map.get(node, 0.25) for node in G.nodes()]\n",
        "\n",
        "\n",
        "red_edges = [('A', 'C'), ('E', 'C')]\n",
        "edge_colours = ['black' if not edge in red_edges else 'red'\n",
        "                for edge in G.edges()]\n",
        "black_edges = [edge for edge in G.edges() if edge not in red_edges]\n",
        "\n",
        "pos = nx.spring_layout(G)\n",
        "nx.draw_networkx_nodes(G, pos, cmap=plt.get_cmap('jet'), \n",
        "                       node_color = values, node_size = 500)\n",
        "nx.draw_networkx_labels(G, pos)\n",
        "nx.draw_networkx_edges(G, pos, edgelist=red_edges, edge_color='r', arrows=True)\n",
        "nx.draw_networkx_edges(G, pos, edgelist=black_edges, arrows=False)\n",
        "plt.show()"
      ],
      "execution_count": 2,
      "outputs": [
        {
          "output_type": "display_data",
          "data": {
            "image/png": "[encoded data removed]",
            "text/plain": [
              "<Figure size 432x288 with 1 Axes>"
            ]
          },
          "metadata": {
            "tags": []
          }
        }
      ]
    }
  ]
}