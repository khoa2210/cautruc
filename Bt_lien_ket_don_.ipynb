{
  "nbformat": 4,
  "nbformat_minor": 0,
  "metadata": {
    "colab": {
      "name": "Bt lien ket don .ipynb",
      "provenance": [],
      "authorship_tag": "ABX9TyNQpMPwvG+GWtxtET18Gf3O",
      "include_colab_link": true
    },
    "kernelspec": {
      "name": "python3",
      "display_name": "Python 3"
    },
    "language_info": {
      "name": "python"
    }
  },
  "cells": [
    {
      "cell_type": "markdown",
      "metadata": {
        "id": "view-in-github",
        "colab_type": "text"
      },
      "source": [
        "<a href=\"https://colab.research.google.com/github/khoa2210/cautruc/blob/main/Bt_lien_ket_don_.ipynb\" target=\"_parent\"><img src=\"https://colab.research.google.com/assets/colab-badge.svg\" alt=\"Open In Colab\"/></a>"
      ]
    },
    {
      "cell_type": "code",
      "metadata": {
        "colab": {
          "base_uri": "https://localhost:8080/"
        },
        "id": "bY3mw2gwhKBH",
        "outputId": "2068b079-f04d-43be-9643-e5087fab3eb0"
      },
      "source": [
        "class Node:\n",
        "    def __init__(self, dataval=None):\n",
        "        self.dataval = dataval\n",
        "        self.nextval = None\n",
        "\n",
        "class SLinkedList:\n",
        "    def __init__(self):\n",
        "        self.headval = None\n",
        "\n",
        "    def listprint(self):\n",
        "        printval = self.headval\n",
        "        while printval is not None:\n",
        "            print (printval.dataval)\n",
        "            printval = printval.nextval\n",
        "\n",
        "list = SLinkedList()\n",
        "list.headval = Node(\"Mon\")\n",
        "e2 = Node(\"Tue\")\n",
        "e3 = Node(\"Wed\")\n",
        "\n",
        "# Link first Node to second node\n",
        "list.headval.nextval = e2\n",
        "\n",
        "# Link second Node to third node\n",
        "e2.nextval = e3\n",
        "\n",
        "list.listprint()"
      ],
      "execution_count": 1,
      "outputs": [
        {
          "output_type": "stream",
          "text": [
            "Mon\n",
            "Tue\n",
            "Wed\n"
          ],
          "name": "stdout"
        }
      ]
    }
  ]
}